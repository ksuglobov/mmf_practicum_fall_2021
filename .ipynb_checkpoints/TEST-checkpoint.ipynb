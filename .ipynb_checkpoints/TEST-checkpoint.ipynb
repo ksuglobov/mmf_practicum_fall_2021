{
 "cells": [
  {
   "cell_type": "code",
   "execution_count": 4,
   "id": "b2875fda",
   "metadata": {},
   "outputs": [
    {
     "ename": "ModuleNotFoundError",
     "evalue": "No module named 'nearest_neighbors'",
     "output_type": "error",
     "traceback": [
      "\u001b[1;31m---------------------------------------------------------------------------\u001b[0m",
      "\u001b[1;31mModuleNotFoundError\u001b[0m                       Traceback (most recent call last)",
      "\u001b[1;32m<ipython-input-4-42947e987006>\u001b[0m in \u001b[0;36m<module>\u001b[1;34m\u001b[0m\n\u001b[0;32m      4\u001b[0m \u001b[1;32mimport\u001b[0m \u001b[0mimportlib\u001b[0m\u001b[1;33m\u001b[0m\u001b[1;33m\u001b[0m\u001b[0m\n\u001b[0;32m      5\u001b[0m \u001b[1;32mfrom\u001b[0m \u001b[0mtimeit\u001b[0m \u001b[1;32mimport\u001b[0m \u001b[0mdefault_timer\u001b[0m \u001b[1;32mas\u001b[0m \u001b[0mtimer\u001b[0m\u001b[1;33m\u001b[0m\u001b[1;33m\u001b[0m\u001b[0m\n\u001b[1;32m----> 6\u001b[1;33m \u001b[1;32mimport\u001b[0m \u001b[0mnearest_neighbors\u001b[0m\u001b[1;33m\u001b[0m\u001b[1;33m\u001b[0m\u001b[0m\n\u001b[0m",
      "\u001b[1;31mModuleNotFoundError\u001b[0m: No module named 'nearest_neighbors'"
     ]
    }
   ],
   "source": [
    "from sklearn.datasets import fetch_openml\n",
    "import pandas as pd\n",
    "import numpy as np\n",
    "import importlib\n",
    "from timeit import default_timer as timer\n",
    "import nearest_neighbors"
   ]
  },
  {
   "cell_type": "code",
   "execution_count": null,
   "id": "2b772134",
   "metadata": {},
   "outputs": [],
   "source": [
    "X_orig, y_orig = fetch_openml(\"mnist_784\", return_X_y=True)"
   ]
  },
  {
   "cell_type": "code",
   "execution_count": null,
   "id": "19e70b0f",
   "metadata": {},
   "outputs": [],
   "source": [
    "X, y = np.array(X_orig).astype(float), np.array(y_orig)\n",
    "s1, s2 = 60000, 10000\n",
    "X_train, y_train = X[:s1, :], y[:s1]\n",
    "X_test, y_test = X[s1:s1 + s2, :], y[s1:s1 + s2]"
   ]
  }
 ],
 "metadata": {
  "kernelspec": {
   "display_name": "Python 3",
   "language": "python",
   "name": "python3"
  },
  "language_info": {
   "codemirror_mode": {
    "name": "ipython",
    "version": 3
   },
   "file_extension": ".py",
   "mimetype": "text/x-python",
   "name": "python",
   "nbconvert_exporter": "python",
   "pygments_lexer": "ipython3",
   "version": "3.6.13"
  }
 },
 "nbformat": 4,
 "nbformat_minor": 5
}
